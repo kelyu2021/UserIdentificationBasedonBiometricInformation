{
 "cells": [
  {
   "cell_type": "code",
   "execution_count": 9,
   "metadata": {},
   "outputs": [
    {
     "name": "stdout",
     "output_type": "stream",
     "text": [
      "0\n",
      "[9 9 9 9 9 9 9 9 9 9 9 9 9 9 9 9 9 9 9 9 9 9 9 9 9 9 9 9 9 9 9 9 9 9 9 9 9\n",
      " 9 9 9 9 9 9 9 9 9 9 9 9 9 9 9 9 9 9 9 9 9 9 9 9 9 9 9 9 9 9 9 9 9 9 9 9 9\n",
      " 9 9 9 9 9 9 9 9 9 9 9 9 9 9 9 9 9 9 9 9 9 9 9 9 9 9 9 9]\n"
     ]
    }
   ],
   "source": [
    "import numpy as np\n",
    "\n",
    "\n",
    "label_map = {'01': 0, '02': 1, '03': 2, '04': 3, '05': 4, '06': 5, '07': 6, '08': 7, '09': 8, '10': 9, \n",
    "            '11': 10, '12': 11, '13': 12, '14': 13, '15': 14, '16': 15, '17': 16, '18': 17, '19': 18, '20': 19, \n",
    "            '21': 20, '22': 21, '23': 22, '24': 23, '25': 24, '26': 25, '27': 26, '28': 27, '29': 28, '30': 29, \n",
    "            '31': 30, '32': 31, '33': 32, '34': 33, '35': 34, '36': 35, '37': 36, '38': 37, '39': 38, '40': 39, \n",
    "            '41': 40, '42': 41, '43': 42, '44': 43, '45': 44, '46': 45, '47': 46, '48': 47, '49': 48, '50': 49}\n",
    "\n",
    "test_labels = np.array([\n",
    " '10', '10', '10', '10', '10', '10', '10', '10', '10', '10', \n",
    " '10', '10', '10', '10', '10', '10', '10', '10', '10', '10',\n",
    " '10', '10', '10', '10', '10', '10', '10', '10', '10', '10',\n",
    " '10', '10', '10', '10', '10', '10', '10', '10', '10', '10',\n",
    " '10', '10', '10', '10', '10', '10', '10', '10', '10', '10',\n",
    " '10', '10', '10', '10', '10', '10', '10', '10', '10', '10', \n",
    " '10', '10', '10', '10', '10', '10', '10', '10', '10', '10',\n",
    " '10', '10', '10', '10', '10', '10', '10', '10', '10', '10',\n",
    " '10', '10', '10', '10', '10', '10', '10', '10', '10', '10',\n",
    " '10', '10', '10', '10', '10', '10', '10', '10', '10', '10',\n",
    " '10', '10'])\n",
    "\n",
    "int_test_labels = np.array([label_map[label] for label in test_labels])\n",
    "\n",
    "print(label_map['01'])\n",
    "\n",
    "print(int_test_labels)"
   ]
  },
  {
   "cell_type": "code",
   "execution_count": 6,
   "metadata": {},
   "outputs": [
    {
     "name": "stdout",
     "output_type": "stream",
     "text": [
      "[1 2 3]\n"
     ]
    }
   ],
   "source": [
    "x = np.array([1, 2, 3, 4, 5])\n",
    "y = np.array([6, 7, 8, 9, 10])\n",
    "\n",
    "x_batch = x[0:10]\n",
    "x_number = x_batch.shape[0]\n",
    "\n",
    "print(f'x_batch: {x_batch}')\n",
    "print(f'x_number: {x_number}')"
   ]
  },
  {
   "cell_type": "code",
   "execution_count": 5,
   "metadata": {},
   "outputs": [
    {
     "name": "stdout",
     "output_type": "stream",
     "text": [
      "[[1. 0. 0. 0. 0.]\n",
      " [0. 1. 0. 0. 0.]\n",
      " [0. 1. 0. 0. 0.]\n",
      " [0. 0. 0. 1. 0.]\n",
      " [0. 0. 0. 0. 1.]\n",
      " [0. 0. 0. 0. 1.]\n",
      " [0. 0. 1. 0. 0.]]\n"
     ]
    }
   ],
   "source": [
    "import numpy as np\n",
    "y_true = np.array([0, 1, 1, 3, 4, 4, 2])\n",
    "print(np.eye(5)[y_true])"
   ]
  },
  {
   "cell_type": "code",
   "execution_count": 2,
   "metadata": {},
   "outputs": [
    {
     "name": "stdout",
     "output_type": "stream",
     "text": [
      "1.0\n",
      "0.001\n"
     ]
    }
   ],
   "source": [
    "step_size=1e-0\n",
    "\n",
    "print(step_size)\n",
    "\n",
    "print(1e-3)"
   ]
  },
  {
   "cell_type": "code",
   "execution_count": 7,
   "metadata": {},
   "outputs": [
    {
     "name": "stdout",
     "output_type": "stream",
     "text": [
      "idx: 0, label: a\n",
      "idx: 1, label: b\n",
      "idx: 2, label: c\n",
      "idx: 3, label: d\n",
      "idx: 4, label: e\n",
      "{'a': 0, 'b': 1, 'c': 2, 'd': 3, 'e': 4}\n",
      "0\n",
      "int_a_labels: [0 1 2]\n",
      "int_b_labels: [2 3 4]\n"
     ]
    }
   ],
   "source": [
    "import numpy as np\n",
    "\n",
    "a = np.array(['a', 'b', 'c'])\n",
    "b = np.array(['c', 'd', 'e'])\n",
    "\n",
    "unique_labels = np.unique([a, b])\n",
    "\n",
    "for idx, label in enumerate(unique_labels):\n",
    "    print(f'idx: {idx}, label: {label}')\n",
    "\n",
    "label_map = {label: idx for idx, label in enumerate(unique_labels)}\n",
    "\n",
    "print(label_map)\n",
    "print(label_map['a'])\n",
    "\n",
    "int_a_labels = np.array([label_map[label] for label in a])\n",
    "int_b_labels = np.array([label_map[label] for label in b])\n",
    "\n",
    "print(f'int_a_labels: {int_a_labels}')\n",
    "print(f'int_b_labels: {int_b_labels}')"
   ]
  }
 ],
 "metadata": {
  "kernelspec": {
   "display_name": "Python 3",
   "language": "python",
   "name": "python3"
  },
  "language_info": {
   "codemirror_mode": {
    "name": "ipython",
    "version": 3
   },
   "file_extension": ".py",
   "mimetype": "text/x-python",
   "name": "python",
   "nbconvert_exporter": "python",
   "pygments_lexer": "ipython3",
   "version": "3.10.10"
  }
 },
 "nbformat": 4,
 "nbformat_minor": 2
}
